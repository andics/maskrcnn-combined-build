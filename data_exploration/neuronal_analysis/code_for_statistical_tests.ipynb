{
 "nbformat": 4,
 "nbformat_minor": 0,
 "metadata": {
  "colab": {
   "provenance": []
  },
  "kernelspec": {
   "name": "python3",
   "display_name": "Python 3"
  },
  "language_info": {
   "name": "python"
  }
 },
 "cells": [
  {
   "cell_type": "code",
   "execution_count": null,
   "metadata": {
    "colab": {
     "base_uri": "https://localhost:8080/"
    },
    "id": "boDPfI7kP29G",
    "outputId": "5443cc7b-1253-49cb-dcb1-2ab9fd0c7d6b",
    "pycharm": {
     "name": "#%%\n"
    }
   },
   "outputs": [
    {
     "output_type": "stream",
     "name": "stdout",
     "text": [
      "Looking in indexes: https://pypi.org/simple, https://us-python.pkg.dev/colab-wheels/public/simple/\n",
      "Requirement already satisfied: torch in /usr/local/lib/python3.8/dist-packages (1.13.0+cu116)\n",
      "Requirement already satisfied: typing-extensions in /usr/local/lib/python3.8/dist-packages (from torch) (4.4.0)\n",
      "Looking in indexes: https://pypi.org/simple, https://us-python.pkg.dev/colab-wheels/public/simple/\n",
      "Requirement already satisfied: torch in /usr/local/lib/python3.8/dist-packages (1.13.0+cu116)\n",
      "Requirement already satisfied: typing-extensions in /usr/local/lib/python3.8/dist-packages (from torch) (4.4.0)\n"
     ]
    }
   ],
   "source": [
    "!pip install torch"
   ]
  },
  {
   "cell_type": "code",
   "source": [
    "import os\n",
    "import itertools\n",
    "import heapq\n",
    "\n",
    "import torch\n",
    "import torch.nn as nn\n",
    "import torch.nn.functional as F\n",
    "import pandas as pd\n",
    "import numpy as np\n",
    "from sklearn.linear_model import LogisticRegression\n",
    "from sklearn.model_selection import train_test_split\n",
    "from sklearn import metrics\n",
    "import scipy.stats as st\n",
    "from matplotlib import pyplot as plt\n",
    "import matplotlib.lines as mlines"
   ],
   "metadata": {
    "id": "8KqJ9dDdRAN0",
    "pycharm": {
     "name": "#%%\n"
    }
   },
   "execution_count": 2,
   "outputs": []
  },
  {
   "cell_type": "code",
   "source": [
    "# create a dataframe of shape 1024 x 3 + 1\n",
    "_colnames = [\"mean\", \"median\", \"max\"]\n",
    "colnames = [f\"{col}{i}\" for i, col in list(itertools.product(range(1024), _colnames))]\n",
    "colnames.append(\"label\")\n",
    "data = pd.DataFrame(columns=colnames)\n",
    "\n",
    "def prep_datum(datum,i):\n",
    "  datum = np.array(datum)\n",
    "  datum = np.concatenate(np.concatenate(datum))\n",
    "  datum = np.append(datum, i)\n",
    "  datum = list(datum)\n",
    "  datum = [v for i, v in enumerate(datum) if i % 4 != 3]\n",
    "  return datum\n",
    "\n",
    "# loop through folders, read files, and append them to the database\n",
    "inputs = os.listdir('/content/drive/MyDrive/training_data')\n",
    "for i, input in enumerate(inputs):\n",
    "  try:\n",
    "    i % 50 == 0 and print(f\"{i} / {len(inputs)}\")\n",
    "    if(not input.isdigit()):\n",
    "      continue\n",
    "    j = int(i%2==0)\n",
    "    datum = torch.load(f'/content/drive/MyDrive/training_data/{input}/predictions_{j}.pth')\n",
    "    datum = prep_datum(datum, j)\n",
    "    data = data.append(pd.DataFrame([datum],columns=colnames),\n",
    "              ignore_index = True)\n",
    "  except:\n",
    "      breakpoint()"
   ],
   "metadata": {
    "id": "4-PeTGKxRZrg",
    "colab": {
     "base_uri": "https://localhost:8080/"
    },
    "outputId": "37afe47d-26d0-4e19-e116-2e3b6b731d7e",
    "pycharm": {
     "name": "#%%\n"
    }
   },
   "execution_count": 9,
   "outputs": [
    {
     "output_type": "stream",
     "name": "stdout",
     "text": [
      "0 / 5016\n",
      "50 / 5016\n",
      "100 / 5016\n",
      "150 / 5016\n",
      "200 / 5016\n",
      "250 / 5016\n",
      "300 / 5016\n",
      "350 / 5016\n",
      "400 / 5016\n",
      "450 / 5016\n",
      "500 / 5016\n",
      "550 / 5016\n",
      "600 / 5016\n",
      "650 / 5016\n",
      "700 / 5016\n",
      "750 / 5016\n",
      "800 / 5016\n",
      "850 / 5016\n",
      "900 / 5016\n",
      "950 / 5016\n",
      "1000 / 5016\n",
      "1050 / 5016\n",
      "1100 / 5016\n",
      "1150 / 5016\n",
      "1200 / 5016\n",
      "1250 / 5016\n",
      "1300 / 5016\n",
      "1350 / 5016\n",
      "1400 / 5016\n",
      "1450 / 5016\n",
      "1500 / 5016\n",
      "1550 / 5016\n",
      "1600 / 5016\n",
      "1650 / 5016\n",
      "1700 / 5016\n",
      "1750 / 5016\n",
      "1800 / 5016\n",
      "1850 / 5016\n",
      "1900 / 5016\n",
      "1950 / 5016\n",
      "2000 / 5016\n",
      "2050 / 5016\n",
      "2100 / 5016\n",
      "2150 / 5016\n",
      "2200 / 5016\n",
      "2250 / 5016\n",
      "2300 / 5016\n",
      "2350 / 5016\n",
      "2400 / 5016\n",
      "2450 / 5016\n",
      "2500 / 5016\n",
      "2550 / 5016\n",
      "2600 / 5016\n",
      "2650 / 5016\n",
      "2700 / 5016\n",
      "2750 / 5016\n",
      "2800 / 5016\n",
      "2850 / 5016\n",
      "2900 / 5016\n",
      "2950 / 5016\n",
      "3000 / 5016\n",
      "3050 / 5016\n",
      "3100 / 5016\n",
      "3150 / 5016\n",
      "3200 / 5016\n",
      "3250 / 5016\n",
      "3300 / 5016\n",
      "3350 / 5016\n",
      "3400 / 5016\n",
      "3450 / 5016\n",
      "3500 / 5016\n",
      "3550 / 5016\n",
      "3600 / 5016\n",
      "3650 / 5016\n",
      "3700 / 5016\n",
      "3750 / 5016\n",
      "3800 / 5016\n",
      "3850 / 5016\n",
      "3900 / 5016\n",
      "3950 / 5016\n",
      "4000 / 5016\n",
      "4050 / 5016\n",
      "4100 / 5016\n",
      "4150 / 5016\n",
      "4200 / 5016\n",
      "4250 / 5016\n",
      "4300 / 5016\n",
      "4350 / 5016\n",
      "4400 / 5016\n",
      "4450 / 5016\n",
      "4500 / 5016\n",
      "4550 / 5016\n",
      "4600 / 5016\n",
      "4650 / 5016\n",
      "4700 / 5016\n",
      "4750 / 5016\n",
      "4800 / 5016\n",
      "4850 / 5016\n",
      "4900 / 5016\n",
      "4950 / 5016\n",
      "5000 / 5016\n"
     ]
    }
   ]
  },
  {
   "cell_type": "code",
   "source": [
    "# drop medians\n",
    "for col in colnames:\n",
    "  col[:3] == \"med\" and data.drop(columns=col, inplace=True)"
   ],
   "metadata": {
    "id": "771H57ek_6cE",
    "pycharm": {
     "name": "#%%\n"
    }
   },
   "execution_count": 10,
   "outputs": []
  },
  {
   "cell_type": "code",
   "source": [
    "# split the data\n",
    "features = [col for col in colnames[:-1] if col[:3] != \"med\"]\n",
    "X = data[features]\n",
    "y = data.label\n",
    "X_train, X_test, y_train, y_test = train_test_split(X, y, test_size=0.5, random_state=16)"
   ],
   "metadata": {
    "id": "VTqa5ZYARgCl",
    "pycharm": {
     "name": "#%%\n"
    }
   },
   "execution_count": 11,
   "outputs": []
  },
  {
   "cell_type": "code",
   "source": [
    "# train the model\n",
    "logreg = LogisticRegression(random_state=16, max_iter=500)\n",
    "logreg.fit(X_train, y_train)"
   ],
   "metadata": {
    "colab": {
     "base_uri": "https://localhost:8080/"
    },
    "id": "aYfdVt92ECX0",
    "outputId": "9fb6e661-dc27-49cc-e044-5b3aebac4562",
    "pycharm": {
     "name": "#%%\n"
    }
   },
   "execution_count": 12,
   "outputs": [
    {
     "output_type": "execute_result",
     "data": {
      "text/plain": [
       "LogisticRegression(max_iter=500, random_state=16)"
      ]
     },
     "metadata": {},
     "execution_count": 12
    }
   ]
  },
  {
   "cell_type": "code",
   "source": [
    "# evaluate the model oos\n",
    "y_pred = logreg.predict(X_test)\n",
    "cnf = metrics.confusion_matrix(y_test, y_pred)\n",
    "score = logreg.score(X_test, y_test)\n",
    "print(cnf, score)"
   ],
   "metadata": {
    "colab": {
     "base_uri": "https://localhost:8080/"
    },
    "id": "o8YwyL3GOqO_",
    "outputId": "a9720384-044f-4f35-b338-82505b305af0",
    "pycharm": {
     "name": "#%%\n"
    }
   },
   "execution_count": 13,
   "outputs": [
    {
     "output_type": "stream",
     "name": "stdout",
     "text": [
      "[[1213   51]\n",
      " [  66 1170]] 0.9532\n"
     ]
    }
   ]
  },
  {
   "cell_type": "code",
   "source": [
    "# compute t statistic\n",
    "te0 = cnf[0][1] + cnf[1][1]\n",
    "te1 = cnf[1][0] + cnf[0][0]\n",
    "e0 = cnf[0][1] / te0\n",
    "e1 = cnf[1][0] / te1\n",
    "e = (e0 + e1)/2\n",
    "t0 = e0 * (1-e0) / te0\n",
    "t1 = e1 * (1-e1) / te1\n",
    "t = (2*e-1)/((t0 + t1)**(1/2))\n",
    "t"
   ],
   "metadata": {
    "colab": {
     "base_uri": "https://localhost:8080/"
    },
    "id": "ownYoh0TESUn",
    "outputId": "8c62eae3-1cda-4bac-98a0-66022a0ed92e",
    "pycharm": {
     "name": "#%%\n"
    }
   },
   "execution_count": null,
   "outputs": [
    {
     "output_type": "execute_result",
     "data": {
      "text/plain": [
       "-107.56345278138517"
      ]
     },
     "metadata": {},
     "execution_count": 15
    }
   ]
  },
  {
   "cell_type": "code",
   "source": [
    "# run Z test\n",
    "alpha = .01\n",
    "thresh = -st.norm.ppf(1-alpha)\n",
    "t < thresh"
   ],
   "metadata": {
    "colab": {
     "base_uri": "https://localhost:8080/"
    },
    "id": "LVMGHftGOs_W",
    "outputId": "fa3c53d1-f401-4d29-c458-1c3664b2fd9e",
    "pycharm": {
     "name": "#%%\n"
    }
   },
   "execution_count": null,
   "outputs": [
    {
     "output_type": "execute_result",
     "data": {
      "text/plain": [
       "True"
      ]
     },
     "metadata": {},
     "execution_count": 16
    }
   ]
  },
  {
   "cell_type": "code",
   "source": [
    "# get mean, max coeffs\n",
    "coef = logreg.coef_[0].tolist()\n",
    "mean, max = pd.Series(coef[::2]), pd.Series(coef[1::2])"
   ],
   "metadata": {
    "id": "wFZvKpTSODoZ",
    "pycharm": {
     "name": "#%%\n"
    }
   },
   "execution_count": null,
   "outputs": []
  },
  {
   "cell_type": "code",
   "source": [
    "# show dist of mean and max coeffs\n",
    "bins = np.linspace(-2, 2, 100)\n",
    "plt.hist(mean, bins, alpha=0.5, label='mean')\n",
    "plt.hist(max, bins, alpha=0.5, label='max')\n",
    "plt.legend(loc='upper right')\n",
    "plt.show()"
   ],
   "metadata": {
    "colab": {
     "base_uri": "https://localhost:8080/",
     "height": 265
    },
    "id": "1Q_iQDUqWow2",
    "outputId": "0ae3a297-257f-402b-dd96-11e871b45acb",
    "pycharm": {
     "name": "#%%\n"
    }
   },
   "execution_count": null,
   "outputs": [
    {
     "output_type": "display_data",
     "data": {
      "text/plain": [
       "<Figure size 432x288 with 1 Axes>"
      ],
      "image/png": "[encoded data removed]"
     },
     "metadata": {
      "needs_background": "light"
     }
    }
   ]
  },
  {
   "cell_type": "code",
   "source": [
    "n=9\n",
    "coef = [abs(c) for c in coef]\n",
    "top_n = heapq.nlargest(n, range(len(coef)), coef.__getitem__)\n",
    "top_n = data.columns[top_n]\n",
    "\n",
    "fig, axs = plt.subplots(3, 3, figsize=(30,20))\n",
    "a = axs.ravel()\n",
    "\n",
    "for idx,ax in enumerate(a):\n",
    "    col = top_n[idx]\n",
    "    cases = data[data.label == 1.0][col]\n",
    "    non_cases = data[data.label == 0.0][col]\n",
    "    ax.hist(cases, bins=300, alpha=0.5, label='cases')\n",
    "    ax.hist(non_cases, bins=300, alpha=0.5, label='non cases')\n",
    "    ax.legend(loc='upper right')\n",
    "    ax.set_title(col)"
   ],
   "metadata": {
    "colab": {
     "base_uri": "https://localhost:8080/",
     "height": 688
    },
    "id": "NSwSe9KEYAip",
    "outputId": "c8097079-5d32-4e15-b62f-a41b18a1595e",
    "pycharm": {
     "name": "#%%\n"
    }
   },
   "execution_count": null,
   "outputs": [
    {
     "output_type": "display_data",
     "data": {
      "text/plain": [
       "<Figure size 2160x1440 with 9 Axes>"
      ],
      "image/png": "[encoded data removed]"
     },
     "metadata": {
      "needs_background": "light"
     }
    }
   ]
  },
  {
   "cell_type": "code",
   "source": [
    "df_out = logreg.decision_function(X_test)\n",
    "pd.Series(df_out).plot.hist(bins=1500)\n",
    "stat, p = st.normaltest(df_out)\n",
    "print(p)"
   ],
   "metadata": {
    "colab": {
     "base_uri": "https://localhost:8080/",
     "height": 283
    },
    "id": "0FNqvTECQppx",
    "outputId": "91858b5b-7809-4f68-c009-3282bb65ec9d",
    "pycharm": {
     "name": "#%%\n"
    }
   },
   "execution_count": 15,
   "outputs": [
    {
     "output_type": "stream",
     "name": "stdout",
     "text": [
      "2.1465653015784047e-89\n"
     ]
    },
    {
     "output_type": "display_data",
     "data": {
      "text/plain": [
       "<Figure size 432x288 with 1 Axes>"
      ],
      "image/png": "[encoded data removed]"
     },
     "metadata": {
      "needs_background": "light"
     }
    }
   ]
  },
  {
   "cell_type": "code",
   "source": [
    "# run permutation test\n",
    "scores = []\n",
    "\n",
    "for i in range(100):\n",
    "  _y_test = np.random.permutation(y_test)\n",
    "  _y_pred = logreg.predict(X_test)\n",
    "  _score = logreg.score(X_test, _y_test)\n",
    "  scores.append(_score)"
   ],
   "metadata": {
    "id": "EUJdedro4gFb",
    "pycharm": {
     "name": "#%%\n"
    }
   },
   "execution_count": null,
   "outputs": []
  },
  {
   "cell_type": "code",
   "source": [
    "sorted(scores)"
   ],
   "metadata": {
    "colab": {
     "base_uri": "https://localhost:8080/"
    },
    "id": "V8NmdWve5QXx",
    "outputId": "9f4a7239-5a51-4bd2-a136-e853f281b858",
    "pycharm": {
     "name": "#%%\n"
    }
   },
   "execution_count": null,
   "outputs": [
    {
     "output_type": "execute_result",
     "data": {
      "text/plain": [
       "[0.4748,\n",
       " 0.4804,\n",
       " 0.482,\n",
       " 0.4844,\n",
       " 0.4852,\n",
       " 0.4852,\n",
       " 0.486,\n",
       " 0.4868,\n",
       " 0.4868,\n",
       " 0.4876,\n",
       " 0.4884,\n",
       " 0.4884,\n",
       " 0.4892,\n",
       " 0.4892,\n",
       " 0.4892,\n",
       " 0.49,\n",
       " 0.4908,\n",
       " 0.4916,\n",
       " 0.4924,\n",
       " 0.4932,\n",
       " 0.4932,\n",
       " 0.494,\n",
       " 0.4948,\n",
       " 0.4948,\n",
       " 0.4948,\n",
       " 0.4956,\n",
       " 0.4956,\n",
       " 0.4956,\n",
       " 0.4964,\n",
       " 0.4964,\n",
       " 0.4964,\n",
       " 0.4972,\n",
       " 0.4972,\n",
       " 0.4972,\n",
       " 0.4972,\n",
       " 0.4972,\n",
       " 0.498,\n",
       " 0.498,\n",
       " 0.498,\n",
       " 0.4988,\n",
       " 0.4988,\n",
       " 0.4988,\n",
       " 0.4988,\n",
       " 0.4996,\n",
       " 0.4996,\n",
       " 0.5004,\n",
       " 0.5004,\n",
       " 0.5004,\n",
       " 0.5004,\n",
       " 0.5004,\n",
       " 0.5004,\n",
       " 0.5012,\n",
       " 0.5012,\n",
       " 0.5012,\n",
       " 0.502,\n",
       " 0.502,\n",
       " 0.5028,\n",
       " 0.5028,\n",
       " 0.5028,\n",
       " 0.5028,\n",
       " 0.5028,\n",
       " 0.5036,\n",
       " 0.5036,\n",
       " 0.5036,\n",
       " 0.5036,\n",
       " 0.5036,\n",
       " 0.5044,\n",
       " 0.5044,\n",
       " 0.5044,\n",
       " 0.5044,\n",
       " 0.5044,\n",
       " 0.5044,\n",
       " 0.5044,\n",
       " 0.5052,\n",
       " 0.5052,\n",
       " 0.5052,\n",
       " 0.5052,\n",
       " 0.5052,\n",
       " 0.506,\n",
       " 0.506,\n",
       " 0.506,\n",
       " 0.506,\n",
       " 0.5068,\n",
       " 0.5076,\n",
       " 0.5076,\n",
       " 0.5076,\n",
       " 0.5084,\n",
       " 0.5084,\n",
       " 0.5084,\n",
       " 0.51,\n",
       " 0.51,\n",
       " 0.5108,\n",
       " 0.5116,\n",
       " 0.5124,\n",
       " 0.514,\n",
       " 0.5156,\n",
       " 0.5172,\n",
       " 0.5196,\n",
       " 0.5228,\n",
       " 0.5284]"
      ]
     },
     "metadata": {},
     "execution_count": 23
    }
   ]
  },
  {
   "cell_type": "code",
   "source": [
    "score > sorted(scores)[-1]"
   ],
   "metadata": {
    "colab": {
     "base_uri": "https://localhost:8080/"
    },
    "id": "vxonBXmD5B0J",
    "outputId": "54a020c5-1bed-4db3-a87d-0292cb7b184d",
    "pycharm": {
     "name": "#%%\n"
    }
   },
   "execution_count": null,
   "outputs": [
    {
     "output_type": "execute_result",
     "data": {
      "text/plain": [
       "True"
      ]
     },
     "metadata": {},
     "execution_count": 24
    }
   ]
  },
  {
   "cell_type": "code",
   "source": [
    "scores.append(score)"
   ],
   "metadata": {
    "id": "yWOQbDjS57ed",
    "pycharm": {
     "name": "#%%\n"
    }
   },
   "execution_count": null,
   "outputs": []
  },
  {
   "cell_type": "code",
   "source": [
    "s = pd.Series(scores)\n",
    "p = s.plot(kind='hist', bins=100)\n",
    "\n",
    "bar_value_to_label = .958\n",
    "min_distance = float(\"inf\")  # initialize min_distance with infinity\n",
    "index_of_bar_to_label = 0\n",
    "for i, rectangle in enumerate(p.patches):  # iterate over every bar\n",
    "    tmp = abs(  # tmp = distance from middle of the bar to bar_value_to_label\n",
    "        (rectangle.get_x() +\n",
    "            (rectangle.get_width() * (1 / 2))) - bar_value_to_label)\n",
    "    if tmp < min_distance:  # we are searching for the bar with x cordinate\n",
    "                            # closest to bar_value_to_label\n",
    "        min_distance = tmp\n",
    "        index_of_bar_to_label = i\n",
    "p.patches[index_of_bar_to_label].set_color('orange')\n",
    "\n",
    "plt.title(\"Distribution of permuted accuracies\")\n",
    "\n",
    "eight = mlines.Line2D([], [], color='#1f77b4', marker='s', ls='', label='permuted')\n",
    "nine = mlines.Line2D([], [], color='orange', marker='s', ls='', label='model')\n",
    "# etc etc\n",
    "plt.legend(handles=[eight, nine])\n",
    "\n",
    "plt.show()"
   ],
   "metadata": {
    "colab": {
     "base_uri": "https://localhost:8080/",
     "height": 281
    },
    "id": "ttB8KTvd6Ajs",
    "outputId": "5fa0d1a8-75c3-4c59-f11d-6dd1fe6b0dd2",
    "pycharm": {
     "name": "#%%\n"
    }
   },
   "execution_count": null,
   "outputs": [
    {
     "output_type": "display_data",
     "data": {
      "text/plain": [
       "<Figure size 432x288 with 1 Axes>"
      ],
      "image/png": "[encoded data removed]"
     },
     "metadata": {
      "needs_background": "light"
     }
    }
   ]
  }
 ]
}