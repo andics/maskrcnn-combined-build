{
 "cells": [
  {
   "cell_type": "code",
   "execution_count": 1,
   "metadata": {},
   "outputs": [
    {
     "name": "stdout",
     "output_type": "stream",
     "text": [
      "Current main owrking directory: q:\\Projects\\Variable_resolution\\Programming\\maskrcnn-combined-build\n"
     ]
    }
   ],
   "source": [
    "# Set current directory as working directory\n",
    "import os\n",
    "import sys\n",
    "import csv\n",
    "import io\n",
    "from pathlib import Path\n",
    "\n",
    "path_main = str(Path(os.path.dirname(os.path.abspath(''))).parents[0])\n",
    "print(f\"Current main owrking directory: {path_main}\")\n",
    "os.chdir(path_main)\n",
    "\n",
    "# Imporant statistical tools packages\n",
    "import pandas as pd\n",
    "import scipy.stats as stats\n",
    "\n",
    "# Import visualization packages\n",
    "import matplotlib.pyplot as plt\n",
    "import seaborn as sns"
   ]
  },
  {
   "cell_type": "markdown",
   "metadata": {},
   "source": [
    "### Static variables"
   ]
  },
  {
   "cell_type": "code",
   "execution_count": 2,
   "metadata": {},
   "outputs": [
    {
     "data": {
      "text/plain": [
       "'q:\\\\Projects\\\\Variable_resolution\\\\Programming\\\\maskrcnn-combined-build\\\\EXPERIMENTS/bin_eval_per_obj_type_ann_norm_small_med/evaluations/equiconst_pretrained_resnet_norm_0.1_340_an_ylarge_nfp/eval_across_bins_on_104.csv'"
      ]
     },
     "execution_count": 2,
     "metadata": {},
     "output_type": "execute_result"
    }
   ],
   "source": [
    "# Choose parent directory\"\n",
    "csv_file_1 = os.path.join(path_main, \"EXPERIMENTS/bin_eval_per_obj_type_ann_norm_small_med/evaluations/equiconst_pretrained_resnet_norm_0.1_340_an_ylarge_nfp/eval_across_bins_on_104.csv\")\n",
    "csv_file_2 = os.path.join(path_main, \"EXPERIMENTS/bin_eval_per_obj_type_ann_norm_small_med/evaluations/var_res_pretrained_resnet_norm_0.1_340_an_ylarge_nfp/eval_across_bins_on_104.csv\")\n",
    "\n",
    "csv_file_1"
   ]
  },
  {
   "cell_type": "markdown",
   "metadata": {},
   "source": [
    "### Auxiliary functions"
   ]
  },
  {
   "cell_type": "code",
   "execution_count": 18,
   "metadata": {},
   "outputs": [],
   "source": [
    "def split_combined_csv_into_n_trials_dataframes(filepath: str):\n",
    "\n",
    "    dataframes = []\n",
    "    rowData = []\n",
    "\n",
    "    # Function to check whether a line is empty\n",
    "    def is_empty_line(line):\n",
    "        return all(c in (',', ' ') for c in line)\n",
    "\n",
    "    # Open the csv and read line by line\n",
    "    with open(filepath, 'r') as file:\n",
    "        for line in file:\n",
    "            stripped_line = line.strip()\n",
    "\n",
    "            # Check if the line is 'empty'\n",
    "            if is_empty_line(stripped_line) or stripped_line == '':\n",
    "                if rowData:\n",
    "                    df = pd.read_csv(io.StringIO(\"\\n\".join(rowData)))\n",
    "                    dataframes.append(df)\n",
    "                    rowData = []  # Clear the row data\n",
    "            else:\n",
    "                rowData.append(stripped_line)\n",
    "                \n",
    "    # Add last batch of data to dataframe list, if it's non-empty\n",
    "    if rowData:\n",
    "        df = pd.read_csv(io.StringIO(\"\\n\".join(rowData)))\n",
    "        dataframes.append(df)\n",
    "\n",
    "    return dataframes\n",
    "\n",
    "def generate_two_dim_vector_of_metrics(dataframe_list_1, dataframe_list_2,\n",
    " metric_name: str, bin_lower_thresh: float):\n",
    "    '''\n",
    "    Generates and returns two lists of the given metric, where each value is extracted from its coresponding trial dataframe\n",
    "    in sequntial order.\n",
    "    '''\n",
    "    df_1_data = []\n",
    "    df_2_data = []\n",
    "\n",
    "    for df_1, df_2 in zip(dataframe_list_1, dataframe_list_2):\n",
    "        if df_1.shape != df_2.shape:\n",
    "            raise ValueError(\"Dataframes must have the same shape.\")\n",
    "\n",
    "        selected_row = df_1.loc[df_1['lower_bin_thresh'] == bin_lower_thresh, metric_name]\n",
    "        df_1_data.append(selected_row.to_list()[0])\n",
    "\n",
    "        selected_row = df_2.loc[df_2['lower_bin_thresh'] == bin_lower_thresh, metric_name]\n",
    "        df_2_data.append(selected_row.to_list()[0])\n",
    "\n",
    "    return df_1_data, df_2_data\n",
    "        \n"
   ]
  },
  {
   "cell_type": "markdown",
   "metadata": {},
   "source": [
    "### Load the data"
   ]
  },
  {
   "cell_type": "code",
   "execution_count": 12,
   "metadata": {},
   "outputs": [],
   "source": [
    "model_1_trials_dfs = split_combined_csv_into_n_trials_dataframes(csv_file_1)\n",
    "model_2_trials_dfs = split_combined_csv_into_n_trials_dataframes(csv_file_2)"
   ]
  },
  {
   "cell_type": "markdown",
   "metadata": {},
   "source": [
    "## Statistical tests"
   ]
  },
  {
   "cell_type": "markdown",
   "metadata": {},
   "source": [
    "### Two-sampled t-test (BBOX AP)"
   ]
  },
  {
   "cell_type": "code",
   "execution_count": 51,
   "metadata": {},
   "outputs": [],
   "source": [
    "metric = \"bbox_AP\"\n",
    "bin_lower_thresh = 0.0\n",
    "\n",
    "selected_metric_model_1, selected_metric_model_2 = generate_two_dim_vector_of_metrics(model_1_trials_dfs, model_2_trials_dfs, metric, bin_lower_thresh)"
   ]
  },
  {
   "cell_type": "code",
   "execution_count": 52,
   "metadata": {},
   "outputs": [
    {
     "name": "stdout",
     "output_type": "stream",
     "text": [
      "t statistic: 2.074920069605781\n",
      "p value: 0.05331715705824098\n"
     ]
    }
   ],
   "source": [
    "t_statistic, p_value = stats.ttest_rel(selected_metric_model_1, selected_metric_model_2, alternative = 'greater')\n",
    "print(\"---RELATED-SAMPLES---\")\n",
    "print(\"t statistic:\", t_statistic)\n",
    "print(\"p value:\", p_value)\n",
    "\n",
    "t_statistic, p_value = stats.ttest_rel(selected_metric_model_1, selected_metric_model_2, alternative = 'greater')\n",
    "print(\"---RELATED-SAMPLES---\")\n",
    "print(\"t statistic:\", t_statistic)\n",
    "print(\"p value:\", p_value)"
   ]
  }
 ],
 "metadata": {
  "kernelspec": {
   "display_name": "transformer_experimentation",
   "language": "python",
   "name": "python3"
  },
  "language_info": {
   "codemirror_mode": {
    "name": "ipython",
    "version": 3
   },
   "file_extension": ".py",
   "mimetype": "text/x-python",
   "name": "python",
   "nbconvert_exporter": "python",
   "pygments_lexer": "ipython3",
   "version": "3.7.6"
  },
  "orig_nbformat": 4
 },
 "nbformat": 4,
 "nbformat_minor": 2
}
